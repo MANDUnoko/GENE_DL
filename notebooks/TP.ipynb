{
 "cells": [
  {
   "cell_type": "code",
   "execution_count": 8,
   "id": "5de052b1-af0b-49fe-941c-3e1949eda61f",
   "metadata": {},
   "outputs": [],
   "source": [
    "import torch\n",
    "import torch.nn as nn\n",
    "import pandas as pd\n",
    "import numpy as np\n",
    "\n",
    "# 1. 모델 정의\n",
    "class AETransformerLite(nn.Module):\n",
    "    def __init__(self, input_dim, latent_dim=8, tf_embed_dim=8, dropout=0.2):\n",
    "        super().__init__()\n",
    "        self.encoder = nn.Sequential(\n",
    "            nn.Linear(input_dim, 64),\n",
    "            nn.ReLU(),\n",
    "            nn.Linear(64, latent_dim)\n",
    "        )\n",
    "        self.embedding = nn.Linear(1, tf_embed_dim)\n",
    "        self.self_attn = nn.MultiheadAttention(embed_dim=tf_embed_dim, num_heads=1, dropout=dropout, batch_first=True)\n",
    "        self.ffn = nn.Sequential(\n",
    "            nn.LayerNorm(tf_embed_dim),\n",
    "            nn.Linear(tf_embed_dim, 1),\n",
    "            nn.Sigmoid()\n",
    "        )\n",
    "        self.attn_weights = None\n",
    "\n",
    "    def forward(self, x):\n",
    "        latent = self.encoder(x)\n",
    "        x = latent.unsqueeze(2)\n",
    "        x = self.embedding(x)\n",
    "        attn_out, attn_weights = self.self_attn(x, x, x, need_weights=True)\n",
    "        self.attn_weights = attn_weights.detach().cpu()\n",
    "        x = attn_out.mean(dim=1)\n",
    "        out = self.ffn(x)\n",
    "        return out"
   ]
  },
  {
   "cell_type": "code",
   "execution_count": 9,
   "id": "75215ed0-b105-402a-9f24-4aad322f5656",
   "metadata": {},
   "outputs": [],
   "source": [
    "# 2. 데이터 불러오기\n",
    "df = pd.read_csv(\"input.csv\")\n",
    "sample_ids = df[\"Unnamed: 0\"].values\n",
    "gene_names = df.columns[1:]\n",
    "X = torch.tensor(df.drop(columns=[\"Unnamed: 0\"]).values, dtype=torch.float32)"
   ]
  },
  {
   "cell_type": "code",
   "execution_count": 10,
   "id": "99e3d998-87fa-4c54-8bfc-da6aea027bb1",
   "metadata": {},
   "outputs": [
    {
     "name": "stderr",
     "output_type": "stream",
     "text": [
      "/var/folders/q0/mw990lc14vn_6yg1z0t4vpz00000gn/T/ipykernel_6466/3103956377.py:3: FutureWarning: You are using `torch.load` with `weights_only=False` (the current default value), which uses the default pickle module implicitly. It is possible to construct malicious pickle data which will execute arbitrary code during unpickling (See https://github.com/pytorch/pytorch/blob/main/SECURITY.md#untrusted-models for more details). In a future release, the default value for `weights_only` will be flipped to `True`. This limits the functions that could be executed during unpickling. Arbitrary objects will no longer be allowed to be loaded via this mode unless they are explicitly allowlisted by the user via `torch.serialization.add_safe_globals`. We recommend you start setting `weights_only=True` for any use case where you don't have full control of the loaded file. Please open an issue on GitHub for any issues related to this experimental feature.\n",
      "  model.load_state_dict(torch.load(\"model.pt\", map_location=\"cpu\"))\n"
     ]
    },
    {
     "data": {
      "text/plain": [
       "AETransformerLite(\n",
       "  (encoder): Sequential(\n",
       "    (0): Linear(in_features=18631, out_features=64, bias=True)\n",
       "    (1): ReLU()\n",
       "    (2): Linear(in_features=64, out_features=8, bias=True)\n",
       "  )\n",
       "  (embedding): Linear(in_features=1, out_features=8, bias=True)\n",
       "  (self_attn): MultiheadAttention(\n",
       "    (out_proj): NonDynamicallyQuantizableLinear(in_features=8, out_features=8, bias=True)\n",
       "  )\n",
       "  (ffn): Sequential(\n",
       "    (0): LayerNorm((8,), eps=1e-05, elementwise_affine=True)\n",
       "    (1): Linear(in_features=8, out_features=1, bias=True)\n",
       "    (2): Sigmoid()\n",
       "  )\n",
       ")"
      ]
     },
     "execution_count": 10,
     "metadata": {},
     "output_type": "execute_result"
    }
   ],
   "source": [
    "# 3. 모델 로드\n",
    "model = AETransformerLite(input_dim=X.shape[1])\n",
    "model.load_state_dict(torch.load(\"model.pt\", map_location=\"cpu\"))\n",
    "model.eval()"
   ]
  },
  {
   "cell_type": "code",
   "execution_count": 11,
   "id": "f1b233cf-d191-4bb9-b9d1-3c1fef0c92f1",
   "metadata": {},
   "outputs": [],
   "source": [
    "# 4. 예측값 얻기\n",
    "with torch.no_grad():\n",
    "    preds = model(X).squeeze()\n",
    "    attns = model.attn_weights  # shape: (N, L, L)"
   ]
  },
  {
   "cell_type": "code",
   "execution_count": 12,
   "id": "d09e2a76-e0dc-4211-8183-3e42fe869746",
   "metadata": {},
   "outputs": [],
   "source": [
    "# 5. 레이블 추출 (Stroke / Control)\n",
    "labels = np.array([\"stroke\" in sid.lower() for sid in sample_ids], dtype=int)"
   ]
  },
  {
   "cell_type": "code",
   "execution_count": 14,
   "id": "8303f59b-4085-418a-91ee-503b062a7bc8",
   "metadata": {},
   "outputs": [],
   "source": [
    "# 6. TP 샘플 인덱스 (label==1 & pred>0.5)\n",
    "tp_idx = (labels == 1) & (preds.numpy() > 0.5)\n",
    "tp_attn = attns[tp_idx]  # (TP, L, L)"
   ]
  },
  {
   "cell_type": "code",
   "execution_count": 15,
   "id": "aaa855ce-5638-4f2f-bb72-4d8ee41633b8",
   "metadata": {},
   "outputs": [],
   "source": [
    "# 7. Attention 평균\n",
    "attn_mean = tp_attn.mean(dim=0)  # (L, L)\n",
    "importance_score = attn_mean.sum(dim=0).numpy()  # (L,)"
   ]
  },
  {
   "cell_type": "code",
   "execution_count": 17,
   "id": "01a84385-7755-461b-8750-dd54e51e926f",
   "metadata": {},
   "outputs": [],
   "source": [
    "# 8. encoder weight 기반 유전자 중요도 추출\n",
    "W1 = model.encoder[0].weight.detach().numpy()   # (64, G)\n",
    "W2 = model.encoder[2].weight.detach().numpy()   # (8, 64)\n",
    "encoder_full = W2 @ W1                          # (8, G)\n",
    "\n",
    "projected = importance_score @ encoder_full     # (G,)"
   ]
  },
  {
   "cell_type": "code",
   "execution_count": 18,
   "id": "5476c6d0-d49c-4c73-9b3a-4987e0a8d558",
   "metadata": {},
   "outputs": [
    {
     "name": "stdout",
     "output_type": "stream",
     "text": [
      "TP 상위 중요 유전자:\n",
      " 1. BACE2: 0.0466\n",
      " 2. ZFP28: 0.0464\n",
      " 3. HDAC8: 0.0455\n",
      " 4. PSCD3: 0.0434\n",
      " 5. PACSIN1: 0.0394\n",
      " 6. KRT2B: 0.0383\n",
      " 7. TMCO4: 0.0381\n",
      " 8. CCNT2: 0.0381\n",
      " 9. VENTXP7: 0.0380\n",
      "10. EMX1: 0.0378\n",
      "11. NAT5: 0.0373\n",
      "12. HARS2: 0.0371\n",
      "13. ZNF3: 0.0370\n",
      "14. TSSK2: 0.0361\n",
      "15. KCNAB3: 0.0361\n",
      "16. XPO5: 0.0361\n",
      "17. PTD008: 0.0361\n",
      "18. SLC13A5: 0.0360\n",
      "19. ZNF358: 0.0359\n",
      "20. IL21R: 0.0354\n"
     ]
    }
   ],
   "source": [
    "# 9. Top 20 유전자\n",
    "topk = 20\n",
    "top_indices = np.argsort(projected)[::-1][:topk]\n",
    "top_genes = gene_names[top_indices]\n",
    "top_scores = projected[top_indices]\n",
    "\n",
    "print(\"TP 상위 중요 유전자:\")\n",
    "for i, (gene, score) in enumerate(zip(top_genes, top_scores), 1):\n",
    "    print(f\"{i:2d}. {gene}: {score:.4f}\")"
   ]
  }
 ],
 "metadata": {
  "kernelspec": {
   "display_name": "Python [conda env:gene_env]",
   "language": "python",
   "name": "conda-env-gene_env-py"
  },
  "language_info": {
   "codemirror_mode": {
    "name": "ipython",
    "version": 3
   },
   "file_extension": ".py",
   "mimetype": "text/x-python",
   "name": "python",
   "nbconvert_exporter": "python",
   "pygments_lexer": "ipython3",
   "version": "3.10.18"
  }
 },
 "nbformat": 4,
 "nbformat_minor": 5
}
