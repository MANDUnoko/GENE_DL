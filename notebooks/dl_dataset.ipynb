{
 "cells": [
  {
   "cell_type": "code",
   "execution_count": 8,
   "id": "5efe9b8e-a9d3-464c-b9e8-f8a48abfd808",
   "metadata": {},
   "outputs": [
    {
     "name": "stderr",
     "output_type": "stream",
     "text": [
      "Warning message:\n",
      "“\u001b[1m\u001b[22mThere was 1 warning in `summarise()`.\n",
      "\u001b[1m\u001b[22m\u001b[36mℹ\u001b[39m In argument: `across(everything(), mean, na.rm = TRUE)`.\n",
      "\u001b[36mℹ\u001b[39m In group 1: `Symbol = \"15E1.2\"`.\n",
      "Caused by warning:\n",
      "\u001b[1m\u001b[22m\u001b[33m!\u001b[39m The `...` argument of `across()` is deprecated as of dplyr 1.1.0.\n",
      "Supply arguments directly to `.fns` through an anonymous function instead.\n",
      "\n",
      "  # Previously\n",
      "  across(a:b, mean, na.rm = TRUE)\n",
      "\n",
      "  # Now\n",
      "  across(a:b, \\(x) mean(x, na.rm = TRUE))”\n"
     ]
    },
    {
     "name": "stdout",
     "output_type": "stream",
     "text": [
      "✅ AutoEncoder 입력 데이터 저장 완료 → AE_input.csv\n"
     ]
    }
   ],
   "source": [
    "# set working directory\n",
    "setwd(\"/Volumes/Disk/Projects/StrokeCare/GSE16561/data\")\n",
    "\n",
    "library(tidyverse)\n",
    "library(preprocessCore)\n",
    "\n",
    "# 1. 데이터 불러오기\n",
    "raw_data <- read.delim(\"GSE16561_RAW.txt\", header = TRUE, sep = \"\\t\", check.names = FALSE)\n",
    "\n",
    "# 2. .bgx (probe ↔ gene) 불러오기\n",
    "bgx <- read.delim(\"GPL6883_HumanRef-8_V3_0_R0_11282963_A.bgx\",\n",
    "                  header = TRUE,\n",
    "                  sep = \"\\t\",\n",
    "                  skip = 8,  # [Probes] 이후\n",
    "                  comment.char = \"#\",\n",
    "                  quote = \"\",\n",
    "                  row.names = NULL)\n",
    "\n",
    "# 3. 병합: probe ID 기준으로 gene symbol 붙이기\n",
    "merged <- merge(raw_data, bgx, by.x = \"ID_REF\", by.y = \"Probe_Id\")\n",
    "\n",
    "# 4. 발현값 + Symbol만 선택\n",
    "expr_by_gene <- merged %>%\n",
    "  select(Symbol, matches(\"_Stroke|_Control\")) %>%\n",
    "  group_by(Symbol) %>%\n",
    "  summarise(across(everything(), mean, na.rm = TRUE))\n",
    "\n",
    "# 5. 행: 유전자, 열: 샘플\n",
    "expr_mat <- as.data.frame(expr_by_gene)\n",
    "rownames(expr_mat) <- expr_mat$Symbol\n",
    "expr_mat <- expr_mat[, -1]\n",
    "\n",
    "# 6. log2(x + 1)\n",
    "log_expr <- log2(expr_mat + 1)\n",
    "\n",
    "# 7. quantile normalization\n",
    "norm_expr <- normalize.quantiles(as.matrix(log_expr))\n",
    "rownames(norm_expr) <- rownames(log_expr)\n",
    "colnames(norm_expr) <- colnames(log_expr)\n",
    "expr_norm <- as.data.frame(norm_expr)\n",
    "\n",
    "# 8. z-score 정규화 (샘플 단위)\n",
    "expr_scaled <- t(scale(t(expr_norm)))  # 행: 샘플, 열: 유전자\n",
    "\n",
    "# 9. 저장\n",
    "write.csv(t(expr_scaled), \"AE_input.csv\", quote = FALSE)\n",
    "cat(\"✅ AutoEncoder 입력 데이터 저장 완료 → AE_input.csv\\n\")"
   ]
  }
 ],
 "metadata": {
  "kernelspec": {
   "display_name": "R",
   "language": "R",
   "name": "ir"
  },
  "language_info": {
   "codemirror_mode": "r",
   "file_extension": ".r",
   "mimetype": "text/x-r-source",
   "name": "R",
   "pygments_lexer": "r",
   "version": "4.2.3"
  }
 },
 "nbformat": 4,
 "nbformat_minor": 5
}
